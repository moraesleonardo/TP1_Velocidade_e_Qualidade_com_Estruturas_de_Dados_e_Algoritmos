{
  "nbformat": 4,
  "nbformat_minor": 0,
  "metadata": {
    "colab": {
      "provenance": [],
      "authorship_tag": "ABX9TyMA84d4rBXFpTjysk2dlr9S",
      "include_colab_link": true
    },
    "kernelspec": {
      "name": "python3",
      "display_name": "Python 3"
    },
    "language_info": {
      "name": "python"
    }
  },
  "cells": [
    {
      "cell_type": "markdown",
      "metadata": {
        "id": "view-in-github",
        "colab_type": "text"
      },
      "source": [
        "<a href=\"https://colab.research.google.com/github/moraesleonardo/TP1_Velocidade_e_Qualidade_com_Estruturas_de_Dados_e_Algoritmos/blob/main/TP1_Velocidade_e_Qualidade_com_Estruturas_de_Dados_e_Algoritmos.ipynb\" target=\"_parent\"><img src=\"https://colab.research.google.com/assets/colab-badge.svg\" alt=\"Open In Colab\"/></a>"
      ]
    },
    {
      "cell_type": "markdown",
      "source": [
        "Questão 1"
      ],
      "metadata": {
        "id": "sRCJ5YxyUDyr"
      }
    },
    {
      "cell_type": "code",
      "execution_count": 1,
      "metadata": {
        "colab": {
          "base_uri": "https://localhost:8080/"
        },
        "id": "2byFP2chQ8Ht",
        "outputId": "11e23d1c-edd5-40a6-87aa-5e5f522a190d"
      },
      "outputs": [
        {
          "output_type": "stream",
          "name": "stdout",
          "text": [
            "['S', 'í', 't', 'i', 'o', 'd', 'o', 'p', 'i', 'c', 'a', '-', 'p', 'a', 'u', 'a', 'm', 'a', 'r', 'e', 'l', 'o', '2', '0', '2', '3']\n"
          ]
        }
      ],
      "source": [
        "string = \"Sítio do pica-pau amarelo \\n 2023\"\n",
        "result = [char for char in string if not char.isspace()]\n",
        "print(result)"
      ]
    },
    {
      "cell_type": "markdown",
      "source": [
        "Questão 2"
      ],
      "metadata": {
        "id": "CW6oSyR3UGJ5"
      }
    },
    {
      "cell_type": "markdown",
      "source": [
        "Letra a)"
      ],
      "metadata": {
        "id": "YC66wg6zUIoA"
      }
    },
    {
      "cell_type": "code",
      "source": [
        "def ordenar_cartas_na_mao(cartas):\n",
        "    # Percorre as cartas\n",
        "    for i in range(1, len(cartas)):\n",
        "        carta_atual = cartas[i]\n",
        "        j = i - 1\n",
        "        # Move a carta para a posição correta\n",
        "        while j >= 0 and cartas[j] > carta_atual:\n",
        "            cartas[j + 1] = cartas[j]\n",
        "            j -= 1\n",
        "        cartas[j + 1] = carta_atual\n",
        "\n",
        "# Teste\n",
        "cartas_espadas = [5, 12, 3, 7, 9, 2, 8, 1, 6, 13, 4, 10, 11]\n",
        "ordenar_cartas_na_mao(cartas_espadas)\n",
        "print(\"Cartas de espadas ordenadas:\", cartas_espadas)"
      ],
      "metadata": {
        "colab": {
          "base_uri": "https://localhost:8080/"
        },
        "id": "hKIWtqfZSI9V",
        "outputId": "9e35cd2a-5684-49c8-9ac9-ccde5d9278f4"
      },
      "execution_count": 3,
      "outputs": [
        {
          "output_type": "stream",
          "name": "stdout",
          "text": [
            "Cartas de espadas ordenadas: [1, 2, 3, 4, 5, 6, 7, 8, 9, 10, 11, 12, 13]\n"
          ]
        }
      ]
    },
    {
      "cell_type": "markdown",
      "source": [
        "Letra b)"
      ],
      "metadata": {
        "id": "YHlYlOh9ULWq"
      }
    },
    {
      "cell_type": "code",
      "source": [
        "def ordenar_cartas_por_empilhamento(cartas):\n",
        "    pilha_principal = cartas[:]  # Clona a pilha inicial\n",
        "    pilha_temp = []  # Pilha temporária para ordenação\n",
        "\n",
        "    # Enquanto houver cartas na pilha principal\n",
        "    while pilha_principal:\n",
        "        # Retira a carta do topo da pilha principal\n",
        "        carta_atual = pilha_principal.pop()\n",
        "\n",
        "        # Mover as cartas de pilha_temp de volta para pilha_principal enquanto forem maiores que carta_atual\n",
        "        while pilha_temp and pilha_temp[-1] > carta_atual:\n",
        "            pilha_principal.append(pilha_temp.pop())\n",
        "\n",
        "        # Insere a carta atual na posição correta na pilha_temp\n",
        "        pilha_temp.append(carta_atual)\n",
        "\n",
        "    # A pilha_temp agora está ordenada em ordem crescente,\n",
        "    # então transferimos de volta para pilha_principal para mantê-la em ordem crescente\n",
        "    while pilha_temp:\n",
        "        pilha_principal.append(pilha_temp.pop())\n",
        "\n",
        "    # Reverte a pilha final para garantir a ordem crescente no topo\n",
        "    pilha_principal.reverse()\n",
        "\n",
        "    return pilha_principal\n",
        "\n",
        "# Teste\n",
        "cartas_espadas = [5, 12, 3, 7, 9, 2, 8, 1, 6, 13, 4, 10, 11]\n",
        "cartas_ordenadas = ordenar_cartas_por_empilhamento(cartas_espadas)\n",
        "print(\"Cartas de espadas ordenadas:\", cartas_ordenadas)"
      ],
      "metadata": {
        "colab": {
          "base_uri": "https://localhost:8080/"
        },
        "id": "_QCbLAu5UOIh",
        "outputId": "0372831d-e66d-40a1-d7ea-501bf6106480"
      },
      "execution_count": 14,
      "outputs": [
        {
          "output_type": "stream",
          "name": "stdout",
          "text": [
            "Cartas de espadas ordenadas: [1, 2, 3, 4, 5, 6, 7, 8, 9, 10, 11, 12, 13]\n"
          ]
        }
      ]
    },
    {
      "cell_type": "markdown",
      "source": [
        "Letra c)"
      ],
      "metadata": {
        "id": "OZAqY3e5ZhzO"
      }
    },
    {
      "cell_type": "code",
      "source": [
        "def ordenar_cartas_na_mao(cartas):\n",
        "    mao = []  # Representa a mão que segura as cartas já ordenadas\n",
        "\n",
        "    for carta in cartas:\n",
        "        # Encontra a posição correta para inserir a carta\n",
        "        posicao = 0\n",
        "        while posicao < len(mao) and mao[posicao] < carta:\n",
        "            posicao += 1\n",
        "        # Insere a carta na posição correta\n",
        "        mao.insert(posicao, carta)\n",
        "\n",
        "    return mao\n",
        "\n",
        "# Teste\n",
        "cartas_espadas = [5, 12, 3, 7, 9, 2, 8, 1, 6, 13, 4, 10, 11]\n",
        "cartas_ordenadas = ordenar_cartas_na_mao(cartas_espadas)\n",
        "print(\"Cartas de espadas ordenadas:\", cartas_ordenadas)"
      ],
      "metadata": {
        "colab": {
          "base_uri": "https://localhost:8080/"
        },
        "id": "zMQ5nsL0ZhhG",
        "outputId": "979e8860-a0ce-4b97-a3c7-ce18f5b6669e"
      },
      "execution_count": 15,
      "outputs": [
        {
          "output_type": "stream",
          "name": "stdout",
          "text": [
            "Cartas de espadas ordenadas: [1, 2, 3, 4, 5, 6, 7, 8, 9, 10, 11, 12, 13]\n"
          ]
        }
      ]
    },
    {
      "cell_type": "markdown",
      "source": [
        "Letra d)"
      ],
      "metadata": {
        "id": "RAGmjTs3aOtc"
      }
    },
    {
      "cell_type": "code",
      "source": [
        "def ordenar_cartas_restrito(cartas):\n",
        "    mao = []\n",
        "\n",
        "    for carta in cartas:\n",
        "        if not mao:\n",
        "            # Se a mão estiver vazia, adicione a primeira carta\n",
        "            mao.append(carta)\n",
        "        elif carta < mao[0]:\n",
        "            # Se a carta é menor que a primeira carta na mão deve inserir no topo\n",
        "            mao.insert(0, carta)\n",
        "        elif carta > mao[-1]:\n",
        "            # Se a carta é maior que a última carta na mão deve inserir no final\n",
        "            mao.append(carta)\n",
        "        else:\n",
        "            mao.append(carta)\n",
        "            mao.sort()\n",
        "\n",
        "    return mao\n",
        "\n",
        "# Teste\n",
        "cartas_espadas = [5, 12, 3, 7, 9, 2, 8, 1, 6, 13, 4, 10, 11]\n",
        "cartas_ordenadas = ordenar_cartas_restrito(cartas_espadas)\n",
        "print(\"Cartas de espadas ordenadas:\", cartas_ordenadas)"
      ],
      "metadata": {
        "colab": {
          "base_uri": "https://localhost:8080/"
        },
        "id": "TQb0enGAaVhc",
        "outputId": "ebdd3f41-3512-421c-df5d-3f41257e813e"
      },
      "execution_count": 17,
      "outputs": [
        {
          "output_type": "stream",
          "name": "stdout",
          "text": [
            "Cartas de espadas ordenadas: [1, 2, 3, 4, 5, 6, 7, 8, 9, 10, 11, 12, 13]\n"
          ]
        }
      ]
    },
    {
      "cell_type": "markdown",
      "source": [
        "Letra e)"
      ],
      "metadata": {
        "id": "jnA4VIJwaSqU"
      }
    },
    {
      "cell_type": "code",
      "source": [
        "def ordenar_cartas_restrito(cartas):\n",
        "    mao = []\n",
        "\n",
        "    for carta in cartas:\n",
        "        # Se a mão estiver vazia, adicione a primeira carta\n",
        "        if not mao:\n",
        "            mao.append(carta)\n",
        "        elif carta < mao[0]:\n",
        "            # Se a carta é menor que a primeira carta na mão deve inserir no topo\n",
        "            mao.insert(0, carta)\n",
        "        elif carta > mao[-1]:\n",
        "            # Se a carta é maior que a última carta na mão deve inserir no fina\n",
        "            mao.append(carta)\n",
        "        else:\n",
        "            mao.append(carta)\n",
        "            mao = sorted(mao)\n",
        "\n",
        "    return mao\n",
        "\n",
        "# Teste\n",
        "cartas_espadas = [5, 12, 3, 7, 9, 2, 8, 1, 6, 13, 4, 10, 11]\n",
        "cartas_ordenadas = ordenar_cartas_restrito(cartas_espadas)\n",
        "print(\"Cartas de espadas ordenadas:\", cartas_ordenadas)"
      ],
      "metadata": {
        "colab": {
          "base_uri": "https://localhost:8080/"
        },
        "id": "RT444U8baVHU",
        "outputId": "0d3fae64-4d51-4ab8-a0be-35a02e4d7de3"
      },
      "execution_count": 20,
      "outputs": [
        {
          "output_type": "stream",
          "name": "stdout",
          "text": [
            "Cartas de espadas ordenadas: [1, 2, 3, 4, 5, 6, 7, 8, 9, 10, 11, 12, 13]\n"
          ]
        }
      ]
    },
    {
      "cell_type": "markdown",
      "source": [
        "Letra f)"
      ],
      "metadata": {
        "id": "iha_514CaXc0"
      }
    },
    {
      "cell_type": "code",
      "source": [
        "def ordenar_cartas_com_uma_mao(cartas):\n",
        "    mao = []\n",
        "\n",
        "    for carta in cartas:\n",
        "        # Se a mão estiver vazia, adicione a primeira carta\n",
        "        if not mao:\n",
        "            mao.append(carta)\n",
        "        elif carta < mao[0]:\n",
        "            # Se a carta é menor que a primeira carta na mão deve inserir no topo\n",
        "            mao.insert(0, carta)\n",
        "        elif carta > mao[-1]:\n",
        "             # Se a carta é maior que a última carta na mão deve inserir no final\n",
        "            mao.append(carta)\n",
        "        else:\n",
        "            mao.append(carta)\n",
        "            mao.sort()\n",
        "\n",
        "    return mao\n",
        "\n",
        "# Teste\n",
        "cartas_espadas = [5, 12, 3, 7, 9, 2, 8, 1, 6, 13, 4, 10, 11]\n",
        "cartas_ordenadas = ordenar_cartas_com_uma_mao(cartas_espadas)\n",
        "print(\"Cartas de espadas ordenadas:\", cartas_ordenadas)"
      ],
      "metadata": {
        "colab": {
          "base_uri": "https://localhost:8080/"
        },
        "id": "J94QzzODgyAh",
        "outputId": "07656aee-4c01-49c8-da90-15d043ed3733"
      },
      "execution_count": 23,
      "outputs": [
        {
          "output_type": "stream",
          "name": "stdout",
          "text": [
            "Cartas de espadas ordenadas: [1, 2, 3, 4, 5, 6, 7, 8, 9, 10, 11, 12, 13]\n"
          ]
        }
      ]
    },
    {
      "cell_type": "markdown",
      "source": [
        "Questão 3"
      ],
      "metadata": {
        "id": "XMXzYumthK_4"
      }
    },
    {
      "cell_type": "markdown",
      "source": [
        "São necessários 4 passos para encontrar o número 8 no array usando busca linear"
      ],
      "metadata": {
        "id": "aFJEHW4Nhh7I"
      }
    },
    {
      "cell_type": "markdown",
      "source": [
        "Questão 4"
      ],
      "metadata": {
        "id": "X7wx6rA0iOB-"
      }
    },
    {
      "cell_type": "markdown",
      "source": [
        "É necessário apenas 1 passo."
      ],
      "metadata": {
        "id": "6CBVY4mNiTEO"
      }
    },
    {
      "cell_type": "markdown",
      "source": [
        "Questão 5"
      ],
      "metadata": {
        "id": "J4qNj7Zoj5kz"
      }
    },
    {
      "cell_type": "code",
      "source": [
        "def greatestNumber(array):\n",
        "    # Etapa 1: Construir um dicionário de frequências\n",
        "    freq = {}\n",
        "    for num in array:\n",
        "        freq[num] = freq.get(num, 0) + 1\n",
        "\n",
        "    # Etapa 2: Encontrar o maior número único\n",
        "    greatest_unique = None\n",
        "    for num, count in freq.items():\n",
        "        if count == 1:\n",
        "            if greatest_unique is None or num > greatest_unique:\n",
        "                greatest_unique = num\n",
        "\n",
        "    return greatest_unique"
      ],
      "metadata": {
        "id": "r1jrXSJkj4Kr"
      },
      "execution_count": null,
      "outputs": []
    },
    {
      "cell_type": "markdown",
      "source": [
        "Questão 6"
      ],
      "metadata": {
        "id": "UkA26b5Emctm"
      }
    },
    {
      "cell_type": "markdown",
      "source": [
        "Letra a)"
      ],
      "metadata": {
        "id": "uPtA5sOLm5j1"
      }
    },
    {
      "cell_type": "code",
      "source": [
        "def encontrar_quadrado(grains):\n",
        "    square = 1\n",
        "    current_grains = 1\n",
        "\n",
        "    while current_grains < grains:\n",
        "        square += 1\n",
        "        current_grains *= 2  # Dobra a quantidade de grãos para o próximo quadrado\n",
        "\n",
        "    return square\n",
        "\n",
        "# Testes\n",
        "print(\"Para 16 grãos, o número do quadrado é:\", encontrar_quadrado(16))\n",
        "print(\"Para 1 grão, o número do quadrado é:\", encontrar_quadrado(1))\n",
        "print(\"Para 64 grãos, o número do quadrado é:\", encontrar_quadrado(64))\n"
      ],
      "metadata": {
        "colab": {
          "base_uri": "https://localhost:8080/"
        },
        "id": "BIMxOMH1m4m1",
        "outputId": "4228231a-c611-4ed2-9a04-9051fea7fc6f"
      },
      "execution_count": 24,
      "outputs": [
        {
          "output_type": "stream",
          "name": "stdout",
          "text": [
            "Para 16 grãos, o número do quadrado é: 5\n",
            "Para 1 grão, o número do quadrado é: 1\n",
            "Para 64 grãos, o número do quadrado é: 7\n"
          ]
        }
      ]
    },
    {
      "cell_type": "markdown",
      "source": [
        "Letra b)"
      ],
      "metadata": {
        "id": "Mq-sAwMEm9T0"
      }
    },
    {
      "cell_type": "markdown",
      "source": [
        "O(log N)"
      ],
      "metadata": {
        "id": "R5cuxn7puF1I"
      }
    },
    {
      "cell_type": "markdown",
      "source": [
        "Questão 7"
      ],
      "metadata": {
        "id": "be4JOom5meM1"
      }
    },
    {
      "cell_type": "markdown",
      "source": [
        "A complexidade de tempo da função é O(n), onde n é o número de strings no array de entrada."
      ],
      "metadata": {
        "id": "jy0IcOBuvUdl"
      }
    },
    {
      "cell_type": "markdown",
      "source": [
        "Questão 8"
      ],
      "metadata": {
        "id": "WXJvYzjJmfbd"
      }
    },
    {
      "cell_type": "code",
      "source": [
        "def bubbleSort(self):\n",
        "    left = 0\n",
        "    right = self.__nItems - 1\n",
        "\n",
        "    while left < right:\n",
        "        # Passo da esquerda para a direita\n",
        "        for i in range(left, right):\n",
        "            if self.__a[i] > self.__a[i + 1]:\n",
        "                self.swap(i, i + 1)\n",
        "        # Reduz o limite à direita\n",
        "        right -= 1\n",
        "\n",
        "        # Passo da direita para a esquerda\n",
        "        for i in range(right, left, -1):\n",
        "            if self.__a[i] < self.__a[i - 1]:\n",
        "                self.swap(i, i - 1)\n",
        "        # Aumenta o limite à esquerda\n",
        "        left += 1"
      ],
      "metadata": {
        "id": "qxRxVMa0vqg_"
      },
      "execution_count": null,
      "outputs": []
    },
    {
      "cell_type": "markdown",
      "source": [
        "Questão 9"
      ],
      "metadata": {
        "id": "8xGGTa7zmg91"
      }
    },
    {
      "cell_type": "code",
      "source": [
        "def bubble_sort(lista):\n",
        "    n = len(lista)\n",
        "    for i in range(n):\n",
        "        troca = False\n",
        "        for j in range(0, n - i - 1):\n",
        "            if lista[j] > lista[j + 1]:\n",
        "                # Troca os elementos se estiverem fora de ordem\n",
        "                lista[j], lista[j + 1] = lista[j + 1], lista[j]\n",
        "                troca = True\n",
        "        # Se nenhuma troca foi feita, a lista já está ordenada\n",
        "        if not troca:\n",
        "            break\n",
        "    return lista\n",
        "\n",
        "# Testes\n",
        "print(\"Lista original: [64, 34, 25, 12, 22, 11, 90]\")\n",
        "print(\"Lista ordenada:\", bubble_sort([64, 34, 25, 12, 22, 11, 90]))\n",
        "print()\n",
        "\n",
        "print(\"Lista original: [5, 1, 4, 2, 8]\")\n",
        "print(\"Lista ordenada:\", bubble_sort([5, 1, 4, 2, 8]))\n",
        "print()\n",
        "\n",
        "print(\"Lista original: [3, 3, 3, 3, 3]\")\n",
        "print(\"Lista ordenada:\", bubble_sort([3, 3, 3, 3, 3]))"
      ],
      "metadata": {
        "colab": {
          "base_uri": "https://localhost:8080/"
        },
        "id": "yfpA5m2ZwXRu",
        "outputId": "15bba192-b1b5-4d32-8a9d-6931682b42e2"
      },
      "execution_count": 25,
      "outputs": [
        {
          "output_type": "stream",
          "name": "stdout",
          "text": [
            "Lista original: [64, 34, 25, 12, 22, 11, 90]\n",
            "Lista ordenada: [11, 12, 22, 25, 34, 64, 90]\n",
            "\n",
            "Lista original: [5, 1, 4, 2, 8]\n",
            "Lista ordenada: [1, 2, 4, 5, 8]\n",
            "\n",
            "Lista original: [3, 3, 3, 3, 3]\n",
            "Lista ordenada: [3, 3, 3, 3, 3]\n"
          ]
        }
      ]
    },
    {
      "cell_type": "markdown",
      "source": [
        "Questão 10"
      ],
      "metadata": {
        "id": "RxZLUnaomiKt"
      }
    },
    {
      "cell_type": "code",
      "source": [
        "def bubble_sort(lista):\n",
        "    n = len(lista)\n",
        "    for i in range(n):\n",
        "        troca = False\n",
        "        for j in range(0, n - i - 1):\n",
        "            if lista[j] > lista[j + 1]:\n",
        "                # Troca as strings se estiverem fora de ordem alfabética\n",
        "                lista[j], lista[j + 1] = lista[j + 1], lista[j]\n",
        "                troca = True\n",
        "        # Se nenhuma troca foi feita, a lista já está ordenada\n",
        "        if not troca:\n",
        "            break\n",
        "    return lista\n",
        "\n",
        "# Testes\n",
        "print(\"Lista original: ['banana', 'maçã', 'laranja', 'abacaxi']\")\n",
        "print(\"Lista ordenada:\", bubble_sort(['banana', 'maçã', 'laranja', 'abacaxi']))\n",
        "print()\n",
        "\n",
        "print(\"Lista original: ['zebra', 'elefante', 'abelha', 'gato', 'cachorro']\")\n",
        "print(\"Lista ordenada:\", bubble_sort(['zebra', 'elefante', 'abelha', 'gato', 'cachorro']))\n",
        "print()\n",
        "\n",
        "print(\"Lista original: ['uva', 'morango', 'abacate', 'kiwi']\")\n",
        "print(\"Lista ordenada:\", bubble_sort(['uva', 'morango', 'abacate', 'kiwi']))"
      ],
      "metadata": {
        "colab": {
          "base_uri": "https://localhost:8080/"
        },
        "id": "B9aWKE-IxD3S",
        "outputId": "954dcc49-6065-4d06-d08d-270f6dc142a2"
      },
      "execution_count": 26,
      "outputs": [
        {
          "output_type": "stream",
          "name": "stdout",
          "text": [
            "Lista original: ['banana', 'maçã', 'laranja', 'abacaxi']\n",
            "Lista ordenada: ['abacaxi', 'banana', 'laranja', 'maçã']\n",
            "\n",
            "Lista original: ['zebra', 'elefante', 'abelha', 'gato', 'cachorro']\n",
            "Lista ordenada: ['abelha', 'cachorro', 'elefante', 'gato', 'zebra']\n",
            "\n",
            "Lista original: ['uva', 'morango', 'abacate', 'kiwi']\n",
            "Lista ordenada: ['abacate', 'kiwi', 'morango', 'uva']\n"
          ]
        }
      ]
    }
  ]
}